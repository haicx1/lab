{
 "cells": [
  {
   "cell_type": "code",
   "execution_count": 1,
   "id": "d7986d0d",
   "metadata": {},
   "outputs": [],
   "source": [
    "### simple thresholding technique using OpenCV in Python:\n",
    "import cv2\n",
    "\n",
    "# Load the image in grayscale mode\n",
    "img = cv2.imread('image.jpg', cv2.IMREAD_GRAYSCALE)\n",
    "\n",
    "# Apply simple thresholding\n",
    "threshold_value = 127\n",
    "max_value = 255\n",
    "ret, thresh = cv2.threshold(img, threshold_value, max_value, cv2.THRESH_BINARY)\n",
    "\n",
    "# Display the original and thresholded images\n",
    "cv2.imshow('Original Image', img)\n",
    "cv2.imshow('Thresholded Image', thresh)\n",
    "cv2.waitKey(0)\n",
    "cv2.destroyAllWindows()\n"
   ]
  },
  {
   "cell_type": "code",
   "execution_count": 2,
   "id": "a68a95a6",
   "metadata": {},
   "outputs": [],
   "source": [
    "### adaptive thresholding technique using OpenCV in Python:\n",
    "import cv2\n",
    "\n",
    "# Load the image in grayscale mode\n",
    "img = cv2.imread('image.jpg', cv2.IMREAD_GRAYSCALE)\n",
    "\n",
    "# Apply adaptive thresholding\n",
    "max_value = 255\n",
    "adaptive_method = cv2.ADAPTIVE_THRESH_GAUSSIAN_C\n",
    "threshold_type = cv2.THRESH_BINARY_INV\n",
    "block_size = 11\n",
    "c = 2\n",
    "thresh = cv2.adaptiveThreshold(img, max_value, adaptive_method, threshold_type, block_size, c)\n",
    "\n",
    "\n",
    "# Display the original and thresholded images\n",
    "cv2.imshow('Original Image', img)\n",
    "cv2.imshow('Adaptive Thresholded Image', thresh)\n",
    "cv2.waitKey(0)\n",
    "cv2.destroyAllWindows()\n"
   ]
  },
  {
   "cell_type": "code",
   "execution_count": 3,
   "id": "d262f511",
   "metadata": {},
   "outputs": [],
   "source": [
    "### Otsu's thresholding technique using OpenCV in Python:\n",
    "\n",
    "import cv2\n",
    "\n",
    "# read image in grayscale\n",
    "img = cv2.imread('image.jpg', 0)\n",
    "\n",
    "# apply Otsu's thresholding\n",
    "ret, th = cv2.threshold(img, 0, 255, cv2.THRESH_BINARY + cv2.THRESH_OTSU)\n",
    "\n",
    "# display original and thresholded images\n",
    "cv2.imshow('Original Image', img)\n",
    "cv2.imshow('Thresholded Image', th)\n",
    "cv2.waitKey(0)\n",
    "cv2.destroyAllWindows()\n",
    "\n"
   ]
  },
  {
   "cell_type": "code",
   "execution_count": 4,
   "id": "b44de6e1",
   "metadata": {},
   "outputs": [],
   "source": [
    "### code for binary thresholding using OpenCV in Python.\n",
    "\n",
    "import cv2\n",
    "\n",
    "# Load the image\n",
    "img = cv2.imread('image.jpg', 0)\n",
    "\n",
    "# Apply binary thresholding\n",
    "thresh_val, thresh = cv2.threshold(img, 128, 255, cv2.THRESH_BINARY)\n",
    "\n",
    "# Display the original and thresholded image\n",
    "cv2.imshow('Original Image', img)\n",
    "cv2.imshow('Thresholded Image', thresh)\n",
    "cv2.waitKey(0)\n",
    "cv2.destroyAllWindows()\n",
    "\n"
   ]
  },
  {
   "cell_type": "code",
   "execution_count": 5,
   "id": "c78a7646",
   "metadata": {},
   "outputs": [],
   "source": [
    "### inverted thresholding using OpenCV in Python:\n",
    "\n",
    "import cv2\n",
    "\n",
    "# Load the image\n",
    "img = cv2.imread('image.jpg', 0)\n",
    "\n",
    "# Apply thresholding\n",
    "thresh_val, thresh = cv2.threshold(img, 150, 255, cv2.THRESH_BINARY_INV)\n",
    "\n",
    "# Show the original and thresholded images\n",
    "cv2.imshow('Original Image', img)\n",
    "cv2.imshow('Thresholded Image', thresh)\n",
    "\n",
    "# Wait for key press and then close all windows\n",
    "cv2.waitKey(0)\n",
    "cv2.destroyAllWindows()\n"
   ]
  },
  {
   "cell_type": "code",
   "execution_count": 6,
   "id": "94dc1fb0",
   "metadata": {},
   "outputs": [],
   "source": [
    "### code snippet to find and draw contours using OpenCV:\n",
    "\n",
    "import cv2\n",
    "import numpy as np\n",
    "\n",
    "# Load image\n",
    "img = cv2.imread('image.jpg')\n",
    "\n",
    "# Convert image to grayscale\n",
    "gray = cv2.cvtColor(img, cv2.COLOR_BGR2GRAY)\n",
    "\n",
    "# Apply threshold to the image\n",
    "_, thresh = cv2.threshold(gray, 127, 255, cv2.THRESH_BINARY)\n",
    "\n",
    "# Find contours in the image\n",
    "contours, hierarchy = cv2.findContours(thresh, cv2.RETR_TREE, cv2.CHAIN_APPROX_SIMPLE)\n",
    "\n",
    "# Draw contours on the image\n",
    "cv2.drawContours(img, contours, -1, (0, 255, 0), 2)\n",
    "\n",
    "# Display the image with contours\n",
    "cv2.imshow('Image with Contours', img)\n",
    "cv2.waitKey(0)\n",
    "cv2.destroyAllWindows()\n",
    "\n"
   ]
  },
  {
   "cell_type": "code",
   "execution_count": null,
   "id": "e53f7060",
   "metadata": {},
   "outputs": [],
   "source": []
  }
 ],
 "metadata": {
  "kernelspec": {
   "display_name": "Python 3 (ipykernel)",
   "language": "python",
   "name": "python3"
  },
  "language_info": {
   "codemirror_mode": {
    "name": "ipython",
    "version": 3
   },
   "file_extension": ".py",
   "mimetype": "text/x-python",
   "name": "python",
   "nbconvert_exporter": "python",
   "pygments_lexer": "ipython3",
   "version": "3.11.5"
  }
 },
 "nbformat": 4,
 "nbformat_minor": 5
}
