{
 "cells": [
  {
   "cell_type": "code",
   "execution_count": 1,
   "id": "f9dbc625-1aa5-463e-93bd-2d3da8572d15",
   "metadata": {
    "tags": []
   },
   "outputs": [],
   "source": [
    "import cv2"
   ]
  },
  {
   "cell_type": "code",
   "execution_count": 2,
   "id": "4702e83a-4e65-4ab1-83f7-c3b9fcd16350",
   "metadata": {
    "tags": []
   },
   "outputs": [],
   "source": [
    "image_coin = cv2.imread('data/coins.jpg')"
   ]
  },
  {
   "cell_type": "code",
   "execution_count": 6,
   "id": "f45116c3-8486-4c6e-bccd-14e208ed16ba",
   "metadata": {
    "tags": []
   },
   "outputs": [],
   "source": [
    "gray_coin = cv2.cvtColor(image_coin, cv2.COLOR_BGR2GRAY)"
   ]
  },
  {
   "cell_type": "code",
   "execution_count": 9,
   "id": "70f56381-dfd5-4115-8f3c-d374f3b3da52",
   "metadata": {
    "tags": []
   },
   "outputs": [],
   "source": [
    "# apply binary thresholding\n",
    "ret, thresh = cv2.threshold(gray_coin, 150, 255, cv2.THRESH_BINARY)\n",
    "# visualize the binary image\n",
    "cv2.imshow('Binary image', thresh)\n",
    "cv2.waitKey(0)\n",
    "cv2.imwrite('image_thres1.jpg', thresh)\n",
    "cv2.destroyAllWindows()"
   ]
  },
  {
   "cell_type": "code",
   "execution_count": null,
   "id": "305fd65c-3ebb-437e-9145-8d24e8039dfb",
   "metadata": {},
   "outputs": [],
   "source": [
    "# detect the contours on the binary image using cv2.CHAIN_APPROX_NONE\n",
    "contours, hierarchy = cv2.findContours(image=thresh, mode=cv2.RETR_TREE, method=cv2.CHAIN_APPROX_NONE)\n",
    "                                      \n",
    "# draw contours on the original image\n",
    "image_copy = image.copy()\n",
    "cv2.drawContours(image=image_copy, contours=contours, contourIdx=-1, color=(0, 255, 0), thickness=2, lineType=cv2.LINE_AA)\n",
    "                \n",
    "# see the results\n",
    "cv2.imshow('None approximation', image_copy)\n",
    "cv2.waitKey(0)\n",
    "cv2.imwrite('contours_none_image1.jpg', image_copy)\n",
    "cv2.destroyAllWindows()"
   ]
  }
 ],
 "metadata": {
  "kernelspec": {
   "display_name": "Python 3 (ipykernel)",
   "language": "python",
   "name": "python3"
  },
  "language_info": {
   "codemirror_mode": {
    "name": "ipython",
    "version": 3
   },
   "file_extension": ".py",
   "mimetype": "text/x-python",
   "name": "python",
   "nbconvert_exporter": "python",
   "pygments_lexer": "ipython3",
   "version": "3.11.5"
  }
 },
 "nbformat": 4,
 "nbformat_minor": 5
}
